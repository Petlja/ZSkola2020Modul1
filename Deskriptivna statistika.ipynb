{
 "cells": [
  {
   "cell_type": "markdown",
   "metadata": {},
   "source": [
    "# Vrlo kratak pregled deskriptivne statistike"
   ]
  },
  {
   "cell_type": "code",
   "execution_count": 1,
   "metadata": {},
   "outputs": [],
   "source": [
    "import numpy as np\n",
    "import matplotlib.pyplot as plt\n",
    "import pandas as pd"
   ]
  },
  {
   "cell_type": "markdown",
   "metadata": {},
   "source": [
    "Za sledeći niz odredite minimum, maksimum, broj elemenata, srednju vrednost, medijanu i standardnu devijaciju."
   ]
  },
  {
   "cell_type": "code",
   "execution_count": 2,
   "metadata": {},
   "outputs": [],
   "source": [
    "xl=[17, 9, 16, 2, 9, 6, 13, 4, 1, 15, 10, 4, 10, 22, 22, 8, 17, 4, 19, 7, 21, 3, 4, 5, 27, 15, 27, 19, 3, 2, 17, 27, 3, 14, 5, 12, 12, 24, 15, 23, 20, 24, 11, 12, 17, 2, 12, 10, 15, 29]"
   ]
  },
  {
   "cell_type": "markdown",
   "metadata": {},
   "source": [
    "Zgodno je niz prvo \"vidimo\". Onda je lakše proceniti tražene parametre. Histogram je najbolje rešenje niz brojeva."
   ]
  },
  {
   "cell_type": "code",
   "execution_count": 3,
   "metadata": {},
   "outputs": [
    {
     "data": {
      "image/png": "[encoded data removed]",
      "text/plain": [
       "<matplotlib.figure.Figure at 0x16b26915550>"
      ]
     },
     "metadata": {},
     "output_type": "display_data"
    }
   ],
   "source": [
    "h=plt.hist(xl,bins=10)"
   ]
  },
  {
   "cell_type": "markdown",
   "metadata": {},
   "source": [
    "Ako je xl lista, a jeste, onda mogu da pomognu sledeće funkcije `min`, `max` i `len`. Za ostalo moramo da koristimo funkcije numpy biblioteke: `np.mean`, `np.median` i `np.std`."
   ]
  },
  {
   "cell_type": "code",
   "execution_count": 4,
   "metadata": {},
   "outputs": [
    {
     "name": "stdout",
     "output_type": "stream",
     "text": [
      "Broj elemenata je  50 , a srednja vrednost  12.9\n"
     ]
    }
   ],
   "source": [
    "print('Broj elemenata je ',len(xl),', a srednja vrednost ',np.mean(xl))"
   ]
  },
  {
   "cell_type": "markdown",
   "metadata": {},
   "source": [
    "Sad kad znamo kako se računaju srednja vrednost i medijana možemo da ih prikažemo i na onom histogramu od malopre."
   ]
  },
  {
   "cell_type": "code",
   "execution_count": 5,
   "metadata": {},
   "outputs": [
    {
     "data": {
      "text/plain": [
       "<matplotlib.lines.Line2D at 0x16b2950f828>"
      ]
     },
     "execution_count": 5,
     "metadata": {},
     "output_type": "execute_result"
    },
    {
     "data": {
      "image/png": "[encoded data removed]",
      "text/plain": [
       "<matplotlib.figure.Figure at 0x16b293b3630>"
      ]
     },
     "metadata": {},
     "output_type": "display_data"
    }
   ],
   "source": [
    "plt.hist(xl,bins=10)\n",
    "plt.axvline(x=np.median(xl), color='orange', linewidth=3, linestyle=\":\")\n",
    "plt.axvline(x=np.mean(xl), color='red', linewidth=2, linestyle=\"--\")"
   ]
  },
  {
   "cell_type": "markdown",
   "metadata": {},
   "source": [
    "U biblioteci pandas listu možemo da predstavimo kao seriju. To je malo složeniji objekat koji ima ugrađene osnovne statističke funkcije pa je zato i pogodniji za eksplorativnu analizu podataka (_exploratory data analysis_)."
   ]
  },
  {
   "cell_type": "code",
   "execution_count": 6,
   "metadata": {},
   "outputs": [],
   "source": [
    "xs=pd.Series(xl)"
   ]
  },
  {
   "cell_type": "code",
   "execution_count": 7,
   "metadata": {},
   "outputs": [
    {
     "data": {
      "text/plain": [
       "count    50.00000\n",
       "mean     12.90000\n",
       "std       7.90053\n",
       "min       1.00000\n",
       "25%       5.25000\n",
       "50%      12.00000\n",
       "75%      18.50000\n",
       "max      29.00000\n",
       "dtype: float64"
      ]
     },
     "execution_count": 7,
     "metadata": {},
     "output_type": "execute_result"
    }
   ],
   "source": [
    "xs.describe()"
   ]
  },
  {
   "cell_type": "markdown",
   "metadata": {},
   "source": [
    "Funkcija `describe` nam da sve parametre koje smo tražili odjednom. Kvantili na 25%, 50% i 75% su upravo tako obeleženi. Prepoznajete li medijanu ovde? Pola vrednosti je ispod medijane, a pola iznad... Naravno, medijana je isto što i kvantil 50%."
   ]
  },
  {
   "cell_type": "markdown",
   "metadata": {},
   "source": [
    "Osim što za serije imamo funkcije za statistiku, ima ih i za grafički prikaz. Za histogram je dovoljno da napišemo `.hist()` iza imena promenljive."
   ]
  },
  {
   "cell_type": "code",
   "execution_count": 8,
   "metadata": {},
   "outputs": [
    {
     "data": {
      "text/plain": [
       "<matplotlib.axes._subplots.AxesSubplot at 0x16b2952ea58>"
      ]
     },
     "execution_count": 8,
     "metadata": {},
     "output_type": "execute_result"
    },
    {
     "data": {
      "image/png": "[encoded data removed]",
      "text/plain": [
       "<matplotlib.figure.Figure at 0x16b2944d4e0>"
      ]
     },
     "metadata": {},
     "output_type": "display_data"
    }
   ],
   "source": [
    "xs.hist()"
   ]
  },
  {
   "cell_type": "markdown",
   "metadata": {},
   "source": [
    "Slično možemo da analiziramo i serije tipa string. Samo što u tom slučaju nema srednje vrednosti i standardne devijacije. Sad imamo broj elemenata, broj jedinstvenih elemenata, koji se element najčešće pojavljuje i koliko puta."
   ]
  },
  {
   "cell_type": "code",
   "execution_count": 9,
   "metadata": {},
   "outputs": [],
   "source": [
    "ys=pd.Series(['a','n','a','l','i','z','a',' ','p','o','d','a','t','a','k','a'])"
   ]
  },
  {
   "cell_type": "code",
   "execution_count": 10,
   "metadata": {},
   "outputs": [
    {
     "data": {
      "text/plain": [
       "count     16\n",
       "unique    11\n",
       "top        a\n",
       "freq       6\n",
       "dtype: object"
      ]
     },
     "execution_count": 10,
     "metadata": {},
     "output_type": "execute_result"
    }
   ],
   "source": [
    "ys.describe()"
   ]
  },
  {
   "cell_type": "markdown",
   "metadata": {},
   "source": [
    "Ova statistika može i da se vizuelizuje. Isto uz pomoć histograma."
   ]
  },
  {
   "cell_type": "code",
   "execution_count": 11,
   "metadata": {},
   "outputs": [
    {
     "data": {
      "text/plain": [
       "<matplotlib.axes._subplots.AxesSubplot at 0x16b2957d9e8>"
      ]
     },
     "execution_count": 11,
     "metadata": {},
     "output_type": "execute_result"
    },
    {
     "data": {
      "image/png": "[encoded data removed]",
      "text/plain": [
       "<matplotlib.figure.Figure at 0x16b297b4f60>"
      ]
     },
     "metadata": {},
     "output_type": "display_data"
    }
   ],
   "source": [
    "ys.hist()"
   ]
  },
  {
   "cell_type": "markdown",
   "metadata": {},
   "source": [
    "Da biste stekli osećaj za raspodele i njihove parametre zgodno je koristiti simulacije. Uzorak iz neke raspodele možemo da dobijemo kao niz slučajnih brojeva iz te raspodele. U sledećem primeru je data simulacija postignuća učenika na PISA testu. Srednja vrednost postignuća je 430, standarda devijacija 100, a broj učenika u uzorku 4000. "
   ]
  },
  {
   "cell_type": "code",
   "execution_count": 12,
   "metadata": {},
   "outputs": [
    {
     "data": {
      "text/plain": [
       "426.8450099790504"
      ]
     },
     "execution_count": 12,
     "metadata": {},
     "output_type": "execute_result"
    },
    {
     "data": {
      "image/png": "[encoded data removed]",
      "text/plain": [
       "<matplotlib.figure.Figure at 0x16b298822b0>"
      ]
     },
     "metadata": {},
     "output_type": "display_data"
    }
   ],
   "source": [
    "x=np.random.normal(430,100,4000)\n",
    "bins=plt.hist(x,bins=range(0,800,10))\n",
    "np.mean(x)"
   ]
  },
  {
   "cell_type": "markdown",
   "metadata": {},
   "source": [
    "Ponovite simulaciju više puta i videćete da se histogram menja, kao i procena srednje vrednosti."
   ]
  },
  {
   "cell_type": "markdown",
   "metadata": {},
   "source": [
    "Mera greške određivanja srednje vrednosti je standardna greška. U ovom slučaju to iznosi oko 1.6 poena. Zato bi srednju vrednost iz ovakvog uzorka bilo korektno zapisati kao 430±2 ili 430(2)."
   ]
  },
  {
   "cell_type": "markdown",
   "metadata": {},
   "source": [
    "### Zadatak\n",
    "Konačno, učitajte \"opštinske pokazatelje poslednje stanje\" sa portala otvorenih podataka pa odredite parametre za prosečna neto primanja po opštinama."
   ]
  },
  {
   "cell_type": "code",
   "execution_count": 13,
   "metadata": {},
   "outputs": [],
   "source": [
    "df=pd.read_csv(\"https://data.gov.rs/sr/datasets/r/b1f1f94a-fe21-3a2a-b801-6f0f05b24257\",sep=\";\")"
   ]
  },
  {
   "cell_type": "code",
   "execution_count": 14,
   "metadata": {},
   "outputs": [
    {
     "data": {
      "text/plain": [
       "array(['Градоначелник/председник општине', 'Површина (у км²)',\n",
       "       'Број становника - процена (последњи расположив податак за годину)',\n",
       "       'Густина насељености (број становника / км2)', 'Број насеља',\n",
       "       'Број живорођених',\n",
       "       'Степен развијености ЈЛС према Закону о регионалном развоју',\n",
       "       'Степен развијености е-управе', 'Укупна дужина водоводне мреже',\n",
       "       'Број становника према Попису 2011',\n",
       "       'Број домаћинстава према Попису 2011',\n",
       "       'Укупна дужина канализационе мреже', 'Број великих предузећа ',\n",
       "       'Број средњих предузећа ', 'Број малих предузећа ',\n",
       "       'Број микро предузећа', 'Број без ознаке за величину',\n",
       "       'Број активних привредних друштава',\n",
       "       'Број активних привредних друштава по NACE Rev.2  (сектор A)',\n",
       "       'Број активних привредних друштава по NACE Rev.2  (сектор B)',\n",
       "       'Број активних привредних друштава по NACE Rev.2  (сектор C)',\n",
       "       'Број активних привредних друштава по NACE Rev.2  (сектор D)',\n",
       "       'Број активних привредних друштава по NACE Rev.2  (сектор E)',\n",
       "       'Број активних привредних друштава по NACE Rev.2  (сектор F)',\n",
       "       'Број активних привредних друштава по NACE Rev.2  (сектор G)',\n",
       "       'Број активних привредних друштава по NACE Rev.2  (сектор H)',\n",
       "       'Број активних привредних друштава по NACE Rev.2  (сектор I)',\n",
       "       'Број активних привредних друштава по NACE Rev.2  (сектор J)',\n",
       "       'Број активних привредних друштава по NACE Rev.2  (сектор K)',\n",
       "       'Број активних привредних друштава по NACE Rev.2  (сектор L)',\n",
       "       'Број активних привредних друштава по NACE Rev.2  (сектор M)',\n",
       "       'Број активних привредних друштава по NACE Rev.2  (сектор N)',\n",
       "       'Број активних привредних друштава по NACE Rev.2  (сектор O)',\n",
       "       'Број активних привредних друштава по NACE Rev.2  (сектор P)',\n",
       "       'Број активних привредних друштава по NACE Rev.2  (сектор Q)',\n",
       "       'Број активних привредних друштава по NACE Rev.2  (сектор R)',\n",
       "       'Број активних привредних друштава по NACE Rev.2  (сектор S)',\n",
       "       'Број активних привредних друштава по NACE Rev.2  (сектор T)',\n",
       "       'Број активних привредних друштава по NACE Rev.2  (сектор U)',\n",
       "       'Број основаних привредних друштава ',\n",
       "       'Број брисаних привредних друштава ',\n",
       "       'Број активних привредних друштава у ликвидацији',\n",
       "       'Број активних привредних друштава у стечају',\n",
       "       'Број активних предузетника',\n",
       "       'Број активних предузетника по NACE Rev.2  (сектор A)',\n",
       "       'Број активних предузетника по NACE Rev.2  (сектор B)',\n",
       "       'Број активних предузетника по NACE Rev.2  (сектор C)',\n",
       "       'Број активних предузетника по NACE Rev.2  (сектор D)',\n",
       "       'Број активних предузетника по NACE Rev.2  (сектор E)',\n",
       "       'Број активних предузетника по NACE Rev.2  (сектор F)',\n",
       "       'Број активних предузетника по NACE Rev.2  (сектор G)',\n",
       "       'Број активних предузетника по NACE Rev.2  (сектор H)',\n",
       "       'Број активних предузетника по NACE Rev.2  (сектор I)',\n",
       "       'Број активних предузетника по NACE Rev.2  (сектор J)',\n",
       "       'Број активних предузетника по NACE Rev.2  (сектор K)',\n",
       "       'Број активних предузетника по NACE Rev.2  (сектор L)',\n",
       "       'Број активних предузетника по NACE Rev.2  (сектор M)',\n",
       "       'Број активних предузетника по NACE Rev.2  (сектор N)',\n",
       "       'Број активних предузетника по NACE Rev.2  (сектор O)',\n",
       "       'Број активних предузетника по NACE Rev.2  (сектор P)',\n",
       "       'Број активних предузетника по NACE Rev.2  (сектор Q)',\n",
       "       'Број активних предузетника по NACE Rev.2  (сектор R)',\n",
       "       'Број активних предузетника по NACE Rev.2  (сектор S)',\n",
       "       'Број активних предузетника по NACE Rev.2  (сектор T)',\n",
       "       'Број активних предузетника по NACE Rev.2  (сектор U)',\n",
       "       'Број основаних предузетника', 'Број брисаних предузетника',\n",
       "       'Број активних предузетника у ликвидацији',\n",
       "       'Број активних предузетника у стечају', 'Број извозника ',\n",
       "       'Вредност извоза у РСД', 'Вредност извоза у УСД',\n",
       "       'Вредност извоза у ЕУР', 'Број регистрованих незапослених ',\n",
       "       'Просечна нето зарада за месец, према општини пребивалишта запослених',\n",
       "       'Просечна нето зарада за период јануар-текући месец, према општини пребивалишта запослених'],\n",
       "      dtype=object)"
      ]
     },
     "execution_count": 14,
     "metadata": {},
     "output_type": "execute_result"
    }
   ],
   "source": [
    "df['Indikator'].unique()"
   ]
  },
  {
   "cell_type": "code",
   "execution_count": 15,
   "metadata": {
    "scrolled": true
   },
   "outputs": [
    {
     "data": {
      "text/html": [
       "<div>\n",
       "<style scoped>\n",
       "    .dataframe tbody tr th:only-of-type {\n",
       "        vertical-align: middle;\n",
       "    }\n",
       "\n",
       "    .dataframe tbody tr th {\n",
       "        vertical-align: top;\n",
       "    }\n",
       "\n",
       "    .dataframe thead th {\n",
       "        text-align: right;\n",
       "    }\n",
       "</style>\n",
       "<table border=\"1\" class=\"dataframe\">\n",
       "  <thead>\n",
       "    <tr style=\"text-align: right;\">\n",
       "      <th></th>\n",
       "      <th>IDIndikator</th>\n",
       "      <th>Indikator</th>\n",
       "      <th>mes</th>\n",
       "      <th>god</th>\n",
       "      <th>idter</th>\n",
       "      <th>nter</th>\n",
       "      <th>vrednost</th>\n",
       "      <th>CreateDate</th>\n",
       "      <th>LastUpdate</th>\n",
       "      <th>IDLegenda</th>\n",
       "      <th>nIzvorI</th>\n",
       "    </tr>\n",
       "  </thead>\n",
       "  <tbody>\n",
       "    <tr>\n",
       "      <th>74</th>\n",
       "      <td>IND03M08</td>\n",
       "      <td>Просечна нето зарада за месец, према општини п...</td>\n",
       "      <td>11</td>\n",
       "      <td>2019</td>\n",
       "      <td>70017</td>\n",
       "      <td>Александровац</td>\n",
       "      <td>43690</td>\n",
       "      <td>1/24/2020 12:02:23 PM</td>\n",
       "      <td>1/24/2020 12:02:23 PM</td>\n",
       "      <td>A</td>\n",
       "      <td>Републички завод за статистику (РЗС)</td>\n",
       "    </tr>\n",
       "    <tr>\n",
       "      <th>150</th>\n",
       "      <td>IND03M08</td>\n",
       "      <td>Просечна нето зарада за месец, према општини п...</td>\n",
       "      <td>11</td>\n",
       "      <td>2019</td>\n",
       "      <td>70025</td>\n",
       "      <td>Алексинац</td>\n",
       "      <td>44584</td>\n",
       "      <td>1/24/2020 12:02:23 PM</td>\n",
       "      <td>1/24/2020 12:02:23 PM</td>\n",
       "      <td>A</td>\n",
       "      <td>Републички завод за статистику (РЗС)</td>\n",
       "    </tr>\n",
       "    <tr>\n",
       "      <th>226</th>\n",
       "      <td>IND03M08</td>\n",
       "      <td>Просечна нето зарада за месец, према општини п...</td>\n",
       "      <td>11</td>\n",
       "      <td>2019</td>\n",
       "      <td>70033</td>\n",
       "      <td>Аранђеловац</td>\n",
       "      <td>48737</td>\n",
       "      <td>1/24/2020 12:02:23 PM</td>\n",
       "      <td>1/24/2020 12:02:23 PM</td>\n",
       "      <td>A</td>\n",
       "      <td>Републички завод за статистику (РЗС)</td>\n",
       "    </tr>\n",
       "    <tr>\n",
       "      <th>302</th>\n",
       "      <td>IND03M08</td>\n",
       "      <td>Просечна нето зарада за месец, према општини п...</td>\n",
       "      <td>11</td>\n",
       "      <td>2019</td>\n",
       "      <td>70041</td>\n",
       "      <td>Ариље</td>\n",
       "      <td>41082</td>\n",
       "      <td>1/24/2020 12:02:23 PM</td>\n",
       "      <td>1/24/2020 12:02:23 PM</td>\n",
       "      <td>A</td>\n",
       "      <td>Републички завод за статистику (РЗС)</td>\n",
       "    </tr>\n",
       "    <tr>\n",
       "      <th>378</th>\n",
       "      <td>IND03M08</td>\n",
       "      <td>Просечна нето зарада за месец, према општини п...</td>\n",
       "      <td>11</td>\n",
       "      <td>2019</td>\n",
       "      <td>70050</td>\n",
       "      <td>Бабушница</td>\n",
       "      <td>45514</td>\n",
       "      <td>1/24/2020 12:02:23 PM</td>\n",
       "      <td>1/24/2020 12:02:23 PM</td>\n",
       "      <td>A</td>\n",
       "      <td>Републички завод за статистику (РЗС)</td>\n",
       "    </tr>\n",
       "  </tbody>\n",
       "</table>\n",
       "</div>"
      ],
      "text/plain": [
       "    IDIndikator                                          Indikator  mes   god  \\\n",
       "74     IND03M08  Просечна нето зарада за месец, према општини п...   11  2019   \n",
       "150    IND03M08  Просечна нето зарада за месец, према општини п...   11  2019   \n",
       "226    IND03M08  Просечна нето зарада за месец, према општини п...   11  2019   \n",
       "302    IND03M08  Просечна нето зарада за месец, према општини п...   11  2019   \n",
       "378    IND03M08  Просечна нето зарада за месец, према општини п...   11  2019   \n",
       "\n",
       "     idter           nter vrednost             CreateDate  \\\n",
       "74   70017  Александровац    43690  1/24/2020 12:02:23 PM   \n",
       "150  70025      Алексинац    44584  1/24/2020 12:02:23 PM   \n",
       "226  70033    Аранђеловац    48737  1/24/2020 12:02:23 PM   \n",
       "302  70041          Ариље    41082  1/24/2020 12:02:23 PM   \n",
       "378  70050      Бабушница    45514  1/24/2020 12:02:23 PM   \n",
       "\n",
       "                LastUpdate IDLegenda                               nIzvorI  \n",
       "74   1/24/2020 12:02:23 PM         A  Републички завод за статистику (РЗС)  \n",
       "150  1/24/2020 12:02:23 PM         A  Републички завод за статистику (РЗС)  \n",
       "226  1/24/2020 12:02:23 PM         A  Републички завод за статистику (РЗС)  \n",
       "302  1/24/2020 12:02:23 PM         A  Републички завод за статистику (РЗС)  \n",
       "378  1/24/2020 12:02:23 PM         A  Републички завод за статистику (РЗС)  "
      ]
     },
     "execution_count": 15,
     "metadata": {},
     "output_type": "execute_result"
    }
   ],
   "source": [
    "df[df['Indikator']=='Просечна нето зарада за месец, према општини пребивалишта запослених'].head()"
   ]
  },
  {
   "cell_type": "code",
   "execution_count": 16,
   "metadata": {},
   "outputs": [],
   "source": [
    "pnz=df[df['Indikator']=='Просечна нето зарада за месец, према општини пребивалишта запослених'][['nter','vrednost']]"
   ]
  },
  {
   "cell_type": "code",
   "execution_count": 17,
   "metadata": {},
   "outputs": [
    {
     "data": {
      "text/html": [
       "<div>\n",
       "<style scoped>\n",
       "    .dataframe tbody tr th:only-of-type {\n",
       "        vertical-align: middle;\n",
       "    }\n",
       "\n",
       "    .dataframe tbody tr th {\n",
       "        vertical-align: top;\n",
       "    }\n",
       "\n",
       "    .dataframe thead th {\n",
       "        text-align: right;\n",
       "    }\n",
       "</style>\n",
       "<table border=\"1\" class=\"dataframe\">\n",
       "  <thead>\n",
       "    <tr style=\"text-align: right;\">\n",
       "      <th></th>\n",
       "      <th>nter</th>\n",
       "      <th>vrednost</th>\n",
       "    </tr>\n",
       "  </thead>\n",
       "  <tbody>\n",
       "    <tr>\n",
       "      <th>832</th>\n",
       "      <td>Врачар</td>\n",
       "      <td>93019</td>\n",
       "    </tr>\n",
       "    <tr>\n",
       "      <th>1282</th>\n",
       "      <td>Нови Београд</td>\n",
       "      <td>88566</td>\n",
       "    </tr>\n",
       "    <tr>\n",
       "      <th>1730</th>\n",
       "      <td>Стари град</td>\n",
       "      <td>88559</td>\n",
       "    </tr>\n",
       "    <tr>\n",
       "      <th>1580</th>\n",
       "      <td>Савски венац</td>\n",
       "      <td>83002</td>\n",
       "    </tr>\n",
       "    <tr>\n",
       "      <th>756</th>\n",
       "      <td>Вождовац</td>\n",
       "      <td>72067</td>\n",
       "    </tr>\n",
       "  </tbody>\n",
       "</table>\n",
       "</div>"
      ],
      "text/plain": [
       "              nter vrednost\n",
       "832         Врачар    93019\n",
       "1282  Нови Београд    88566\n",
       "1730    Стари град    88559\n",
       "1580  Савски венац    83002\n",
       "756       Вождовац    72067"
      ]
     },
     "execution_count": 17,
     "metadata": {},
     "output_type": "execute_result"
    }
   ],
   "source": [
    "pnz.sort_values('vrednost',ascending=False).head()"
   ]
  },
  {
   "cell_type": "code",
   "execution_count": 18,
   "metadata": {},
   "outputs": [
    {
     "data": {
      "text/plain": [
       "count      175.000000\n",
       "mean     49311.714286\n",
       "std       8991.570439\n",
       "min      38319.000000\n",
       "25%      43686.000000\n",
       "50%      46981.000000\n",
       "75%      50705.500000\n",
       "max      93019.000000\n",
       "Name: vrednost, dtype: float64"
      ]
     },
     "execution_count": 18,
     "metadata": {},
     "output_type": "execute_result"
    }
   ],
   "source": [
    "pnz['vrednost'].astype(float).describe()"
   ]
  },
  {
   "cell_type": "code",
   "execution_count": 19,
   "metadata": {},
   "outputs": [
    {
     "data": {
      "text/plain": [
       "<matplotlib.axes._subplots.AxesSubplot at 0x16b29a76908>"
      ]
     },
     "execution_count": 19,
     "metadata": {},
     "output_type": "execute_result"
    },
    {
     "data": {
      "image/png": "[encoded data removed]",
      "text/plain": [
       "<matplotlib.figure.Figure at 0x16b29a76278>"
      ]
     },
     "metadata": {},
     "output_type": "display_data"
    }
   ],
   "source": [
    "pnz['vrednost'].astype(float).hist(bins=range(32500,92500,5000))"
   ]
  }
 ],
 "metadata": {
  "kernelspec": {
   "display_name": "Python 3",
   "language": "python",
   "name": "python3"
  },
  "language_info": {
   "codemirror_mode": {
    "name": "ipython",
    "version": 3
   },
   "file_extension": ".py",
   "mimetype": "text/x-python",
   "name": "python",
   "nbconvert_exporter": "python",
   "pygments_lexer": "ipython3",
   "version": "3.6.4"
  }
 },
 "nbformat": 4,
 "nbformat_minor": 2
}
