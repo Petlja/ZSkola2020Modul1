{
 "cells": [
  {
   "cell_type": "markdown",
   "metadata": {},
   "source": [
    "# Wuhan Coronavirus data"
   ]
  },
  {
   "cell_type": "markdown",
   "metadata": {},
   "source": [
    "Sve češće u medijima viđamo vrlo ažurne vizuelizacije aktuelnih dešavanja bazirane na javno dosupnim podacima, kao što su npr. broj Đokovićevih osvojenih teniskih turnira ili ekonomski efekti BREXIT-a. Od početka ove 2020. godine posebno je značajna epidemija Korona virusa. Na stranici [2019-nCoV Global Cases by Johns Hopkins CSSE](https://gisanddata.maps.arcgis.com/apps/opsdashboard/index.html#/bda7594740fd40299423467b48e9ecf6) data je vizuelizacija najvažnijih podataka u vezi sa epidemijom koja se ažurira na svakih nekoliko sati. Podaci na osnovu kojih je urađena vizuelizacija su prikupljeni iz više javno dostupnih izvora i objavljeni na najjednostavniji način. U donjem desnom uglu dešborda dat je link za [google spreadsheet](https://docs.google.com/spreadsheets/d/1wQVypefm946ch4XDp37uZ-wartW4V7ILdg-qYiDXUHM/htmlview?usp=sharing&sle=true) gde se kod svake nove objave dodaje po jedan tab sa podacima. Ovi podaci nisu idealno složeni jer se tokom vremena menjala ideja šta sve treba da bude u tabeli, ali su najvažniji podaci ipak konzistentno predstavljeni. Nadam se da će biti i u trenutku kada ih budete koristili.\n",
    "![Spread of Coronavirus in China](https://upload.wikimedia.org/wikipedia/en/3/31/Spread_of_Wuhan_Coronavirus_in_China.png)"
   ]
  },
  {
   "cell_type": "markdown",
   "metadata": {},
   "source": [
    "Tabela dozvoljava kopiranje podataka, ali ne i sasvim jednostavno preuzimanje. Prosto nema dugmenceta \"download\". To je lako rešivo ako malo modifikujemo URL sa kog preuzimamo podatke. Format koji nam omogućuje preuzimanje podataka treba da ima oblik:\n",
    "```\n",
    "\"https://spreadsheets.google.com/feeds/download/spreadsheets/Export?key=\" + key + \"&exportFormat=csv\"\n",
    "```\n",
    "Key je ona najnaduža alfanumerička sekvenca između dve kose crte u URL-u. U ovom konkretnom slučaju to je `1wQVypefm946ch4XDp37uZ-wartW4V7ILdg-qYiDXUHM`. Konačno, adresa koja nam omogućava preuzimanje je \n",
    "https://spreadsheets.google.com/feeds/download/spreadsheets/Export?key=1wQVypefm946ch4XDp37uZ-wartW4V7ILdg-qYiDXUHM&exportFormat=csv.\n",
    "\n"
   ]
  },
  {
   "cell_type": "markdown",
   "metadata": {},
   "source": [
    "Da bismo obradili i prikazali podatke potrebne su nam neke Pajtonove biblioteke: pandas i matplotlib. "
   ]
  },
  {
   "cell_type": "code",
   "execution_count": 1,
   "metadata": {},
   "outputs": [],
   "source": [
    "import pandas as pd\n",
    "import matplotlib.pyplot as plt\n",
    "%matplotlib inline"
   ]
  },
  {
   "cell_type": "markdown",
   "metadata": {},
   "source": [
    "Adresu sa koje treba preuzmemo podatke stavljamo i google_sheet_url i podatke učitavamo u data frame koristeći pandas funkciju read_csv."
   ]
  },
  {
   "cell_type": "code",
   "execution_count": 2,
   "metadata": {},
   "outputs": [],
   "source": [
    "google_sheet_url = \"https://spreadsheets.google.com/feeds/download/spreadsheets/Export?key=1wQVypefm946ch4XDp37uZ-wartW4V7ILdg-qYiDXUHM&exportFormat=csv\""
   ]
  },
  {
   "cell_type": "code",
   "execution_count": 3,
   "metadata": {},
   "outputs": [],
   "source": [
    "df=pd.read_csv(google_sheet_url)"
   ]
  },
  {
   "cell_type": "markdown",
   "metadata": {},
   "source": [
    "Funkcija `head()` prikazuje nekoliko prvih redova tabele, odnosno data frame strukture."
   ]
  },
  {
   "cell_type": "code",
   "execution_count": 4,
   "metadata": {},
   "outputs": [
    {
     "data": {
      "text/html": [
       "<div>\n",
       "<style scoped>\n",
       "    .dataframe tbody tr th:only-of-type {\n",
       "        vertical-align: middle;\n",
       "    }\n",
       "\n",
       "    .dataframe tbody tr th {\n",
       "        vertical-align: top;\n",
       "    }\n",
       "\n",
       "    .dataframe thead th {\n",
       "        text-align: right;\n",
       "    }\n",
       "</style>\n",
       "<table border=\"1\" class=\"dataframe\">\n",
       "  <thead>\n",
       "    <tr style=\"text-align: right;\">\n",
       "      <th></th>\n",
       "      <th>Province/State</th>\n",
       "      <th>Country/Region</th>\n",
       "      <th>Last Update (UTC)</th>\n",
       "      <th>Confirmed</th>\n",
       "      <th>Deaths</th>\n",
       "      <th>Recovered</th>\n",
       "    </tr>\n",
       "  </thead>\n",
       "  <tbody>\n",
       "    <tr>\n",
       "      <th>0</th>\n",
       "      <td>Hubei</td>\n",
       "      <td>Mainland China</td>\n",
       "      <td>2/2/2020 23:43</td>\n",
       "      <td>11177</td>\n",
       "      <td>350</td>\n",
       "      <td>295</td>\n",
       "    </tr>\n",
       "    <tr>\n",
       "      <th>1</th>\n",
       "      <td>Zhejiang</td>\n",
       "      <td>Mainland China</td>\n",
       "      <td>2/3/2020 1:33</td>\n",
       "      <td>724</td>\n",
       "      <td>0</td>\n",
       "      <td>36</td>\n",
       "    </tr>\n",
       "    <tr>\n",
       "      <th>2</th>\n",
       "      <td>Guangdong</td>\n",
       "      <td>Mainland China</td>\n",
       "      <td>2/3/2020 1:33</td>\n",
       "      <td>683</td>\n",
       "      <td>0</td>\n",
       "      <td>15</td>\n",
       "    </tr>\n",
       "    <tr>\n",
       "      <th>3</th>\n",
       "      <td>Henan</td>\n",
       "      <td>Mainland China</td>\n",
       "      <td>2/3/2020 1:03</td>\n",
       "      <td>566</td>\n",
       "      <td>2</td>\n",
       "      <td>14</td>\n",
       "    </tr>\n",
       "    <tr>\n",
       "      <th>4</th>\n",
       "      <td>Hunan</td>\n",
       "      <td>Mainland China</td>\n",
       "      <td>2/3/2020 1:33</td>\n",
       "      <td>521</td>\n",
       "      <td>0</td>\n",
       "      <td>16</td>\n",
       "    </tr>\n",
       "  </tbody>\n",
       "</table>\n",
       "</div>"
      ],
      "text/plain": [
       "  Province/State  Country/Region Last Update (UTC)  Confirmed  Deaths  \\\n",
       "0          Hubei  Mainland China    2/2/2020 23:43      11177     350   \n",
       "1       Zhejiang  Mainland China     2/3/2020 1:33        724       0   \n",
       "2      Guangdong  Mainland China     2/3/2020 1:33        683       0   \n",
       "3          Henan  Mainland China     2/3/2020 1:03        566       2   \n",
       "4          Hunan  Mainland China     2/3/2020 1:33        521       0   \n",
       "\n",
       "   Recovered  \n",
       "0        295  \n",
       "1         36  \n",
       "2         15  \n",
       "3         14  \n",
       "4         16  "
      ]
     },
     "execution_count": 4,
     "metadata": {},
     "output_type": "execute_result"
    }
   ],
   "source": [
    "# ovo bi trebalo da prikaže zaglavlje tabele\n",
    "df.head()"
   ]
  },
  {
   "cell_type": "markdown",
   "metadata": {},
   "source": [
    "Postoji šansa da ovo neće raditi u trenutku kad budete probali, tj. da ne dobijete preglednu tabelu sa podacima. Tako je to sa podacima koje na volonterskoj osnovi istovremeno uređuje veliki broj ljudi. Danas radi, ali sutra možda neće. Stalno menjaju strukturu, dodaju komentare gde ne treba... Nije problem. Ako niste u stanju ili nemate vremena da sređujete tabelu pre učitavanja, uzmite onu verziju koja je u repozitorijumu `Coronavirus data 2020-02-02.csv`."
   ]
  },
  {
   "cell_type": "code",
   "execution_count": 5,
   "metadata": {},
   "outputs": [],
   "source": [
    "df=pd.read_csv('Coronavirus data 2020-02-02.csv')"
   ]
  },
  {
   "cell_type": "markdown",
   "metadata": {},
   "source": [
    "Da vidimo sad kolika nam je ova tabela, koliko tu ima vrsta i koliko kolona. Funkcija shape će nam to prikazati."
   ]
  },
  {
   "cell_type": "code",
   "execution_count": 6,
   "metadata": {},
   "outputs": [
    {
     "data": {
      "text/plain": [
       "(67, 6)"
      ]
     },
     "execution_count": 6,
     "metadata": {},
     "output_type": "execute_result"
    }
   ],
   "source": [
    "df.shape"
   ]
  },
  {
   "cell_type": "markdown",
   "metadata": {},
   "source": [
    "Ne bi bilo loše da izaberemo šta nas najviše interesuje za prikaz. Ovo što sledi je prikaz broja zaraženih za kineske provincije u kojima ih ima najviše."
   ]
  },
  {
   "cell_type": "markdown",
   "metadata": {},
   "source": [
    "Prvo biramo indeksnu kolonu. To je ona po kojoj pregledamo i označavamo podatke. U ovom slučaju to je provincija ili država."
   ]
  },
  {
   "cell_type": "code",
   "execution_count": 7,
   "metadata": {},
   "outputs": [],
   "source": [
    "df.index=df['Province/State']"
   ]
  },
  {
   "cell_type": "markdown",
   "metadata": {},
   "source": [
    "Kôd u nastavku nije previše komplikovan, ali nema potrebe da ga sad analiziramo. Prosto ga upotrebite i dobićete grafički prikaz gde zaraženih ima najviše. Crni deo trake prikazuje koliko je njih do sada umrlo."
   ]
  },
  {
   "cell_type": "code",
   "execution_count": 8,
   "metadata": {},
   "outputs": [
    {
     "data": {
      "text/plain": [
       "<matplotlib.axes._subplots.AxesSubplot at 0x2096e1620f0>"
      ]
     },
     "execution_count": 8,
     "metadata": {},
     "output_type": "execute_result"
    },
    {
     "data": {
      "image/png": "[encoded data removed]",
      "text/plain": [
       "<matplotlib.figure.Figure at 0x2096e152a20>"
      ]
     },
     "metadata": {},
     "output_type": "display_data"
    }
   ],
   "source": [
    "df=df.sort_values('Confirmed',ascending=False)\n",
    "plt.figure(figsize=(15,3))\n",
    "df['Confirmed'].head(10).plot(kind=\"barh\")\n",
    "df['Deaths'].head(10).plot(kind=\"barh\",color='black')"
   ]
  },
  {
   "cell_type": "markdown",
   "metadata": {},
   "source": [
    "Sada da vidimo kako se situacija menjala sa vremenom. To ne možemo da izvučemo iz samo jedne tabele. Potrebne su nam sve koje se nalaze u onom google sheet-u. Da ne bismo skidali stranu po stranu, bolje je da skinemo Excel fajl iz koga ćemo posle uzimati posebne tabove."
   ]
  },
  {
   "cell_type": "markdown",
   "metadata": {},
   "source": [
    "Slično, za preuzimanje svih tabova kao Excel fajla koristimo URL na čijem je kraju umesto csv xlsx: https://spreadsheets.google.com/feeds/download/spreadsheets/Export?key=1wQVypefm946ch4XDp37uZ-wartW4V7ILdg-qYiDXUHM&exportFormat=xlsx. Ako format na vebu ne bude odgovarajući kad ga budete koristili, uzmite verziju iz repozitorijuma `Coronavirus data 2020-02-02.xlsx`."
   ]
  },
  {
   "cell_type": "code",
   "execution_count": 9,
   "metadata": {},
   "outputs": [],
   "source": [
    "google_sheet_url = \"https://spreadsheets.google.com/feeds/download/spreadsheets/Export?key=1wQVypefm946ch4XDp37uZ-wartW4V7ILdg-qYiDXUHM&exportFormat=xlsx\"\n",
    "\n",
    "df=pd.read_excel(google_sheet_url)"
   ]
  },
  {
   "cell_type": "markdown",
   "metadata": {},
   "source": [
    "Sad iz fajla koji smo preuzeli čitamo pojedinačne tabove i sve te tabele spajamo u jednu veliku. Nadamo se samo da će Pajton znati kako da poveže tabele koje verovatno nemaju istu strukturu."
   ]
  },
  {
   "cell_type": "code",
   "execution_count": 10,
   "metadata": {},
   "outputs": [],
   "source": [
    "n=20\n",
    "df=pd.read_excel('Coronavirus data 2020-02-02.xlsx',sheet_name=n)\n",
    "for i in range(1,n):\n",
    "    dfi=pd.read_excel('Coronavirus data 2020-02-02.xlsx',sheet_name=i)\n",
    "    df=pd.concat([df,dfi])"
   ]
  },
  {
   "cell_type": "code",
   "execution_count": 11,
   "metadata": {},
   "outputs": [
    {
     "data": {
      "text/html": [
       "<div>\n",
       "<style scoped>\n",
       "    .dataframe tbody tr th:only-of-type {\n",
       "        vertical-align: middle;\n",
       "    }\n",
       "\n",
       "    .dataframe tbody tr th {\n",
       "        vertical-align: top;\n",
       "    }\n",
       "\n",
       "    .dataframe thead th {\n",
       "        text-align: right;\n",
       "    }\n",
       "</style>\n",
       "<table border=\"1\" class=\"dataframe\">\n",
       "  <thead>\n",
       "    <tr style=\"text-align: right;\">\n",
       "      <th></th>\n",
       "      <th>Confirmed</th>\n",
       "      <th>Country/Region</th>\n",
       "      <th>Deaths</th>\n",
       "      <th>Last Update</th>\n",
       "      <th>Province/State</th>\n",
       "      <th>Quick note: Starting from this tab, our map is updating (almost) in real time (China data - at least once per hour; non China data - several times per day). This table is planning to be updated twice a day. The discrepancy between the map and this sheet is expected. Sorry for any confusion and inconvenience.</th>\n",
       "      <th>Recovered</th>\n",
       "      <th>Suspected</th>\n",
       "      <th>Unnamed: 6</th>\n",
       "      <th>Unnamed: 7</th>\n",
       "    </tr>\n",
       "  </thead>\n",
       "  <tbody>\n",
       "    <tr>\n",
       "      <th>0</th>\n",
       "      <td>1052.0</td>\n",
       "      <td>Mainland China</td>\n",
       "      <td>52.0</td>\n",
       "      <td>2020-01-25 22:00:00</td>\n",
       "      <td>Hubei</td>\n",
       "      <td>NaN</td>\n",
       "      <td>42.0</td>\n",
       "      <td>NaN</td>\n",
       "      <td>NaN</td>\n",
       "      <td>NaN</td>\n",
       "    </tr>\n",
       "    <tr>\n",
       "      <th>1</th>\n",
       "      <td>104.0</td>\n",
       "      <td>Mainland China</td>\n",
       "      <td>NaN</td>\n",
       "      <td>2020-01-25 22:00:00</td>\n",
       "      <td>Zhejiang</td>\n",
       "      <td>NaN</td>\n",
       "      <td>1.0</td>\n",
       "      <td>NaN</td>\n",
       "      <td>NaN</td>\n",
       "      <td>NaN</td>\n",
       "    </tr>\n",
       "    <tr>\n",
       "      <th>2</th>\n",
       "      <td>98.0</td>\n",
       "      <td>Mainland China</td>\n",
       "      <td>NaN</td>\n",
       "      <td>2020-01-25 12:00:00</td>\n",
       "      <td>Guangdong</td>\n",
       "      <td>NaN</td>\n",
       "      <td>2.0</td>\n",
       "      <td>NaN</td>\n",
       "      <td>NaN</td>\n",
       "      <td>NaN</td>\n",
       "    </tr>\n",
       "    <tr>\n",
       "      <th>3</th>\n",
       "      <td>83.0</td>\n",
       "      <td>Mainland China</td>\n",
       "      <td>1.0</td>\n",
       "      <td>2020-01-25 12:00:00</td>\n",
       "      <td>Henan</td>\n",
       "      <td>NaN</td>\n",
       "      <td>NaN</td>\n",
       "      <td>3.0</td>\n",
       "      <td>NaN</td>\n",
       "      <td>NaN</td>\n",
       "    </tr>\n",
       "    <tr>\n",
       "      <th>4</th>\n",
       "      <td>75.0</td>\n",
       "      <td>Mainland China</td>\n",
       "      <td>NaN</td>\n",
       "      <td>2020-01-25 12:00:00</td>\n",
       "      <td>Chongqing</td>\n",
       "      <td>NaN</td>\n",
       "      <td>NaN</td>\n",
       "      <td>NaN</td>\n",
       "      <td>NaN</td>\n",
       "      <td>NaN</td>\n",
       "    </tr>\n",
       "  </tbody>\n",
       "</table>\n",
       "</div>"
      ],
      "text/plain": [
       "   Confirmed  Country/Region  Deaths         Last Update Province/State  \\\n",
       "0     1052.0  Mainland China    52.0 2020-01-25 22:00:00          Hubei   \n",
       "1      104.0  Mainland China     NaN 2020-01-25 22:00:00       Zhejiang   \n",
       "2       98.0  Mainland China     NaN 2020-01-25 12:00:00      Guangdong   \n",
       "3       83.0  Mainland China     1.0 2020-01-25 12:00:00          Henan   \n",
       "4       75.0  Mainland China     NaN 2020-01-25 12:00:00      Chongqing   \n",
       "\n",
       "   Quick note: Starting from this tab, our map is updating (almost) in real time (China data - at least once per hour; non China data - several times per day). This table is planning to be updated twice a day. The discrepancy between the map and this sheet is expected. Sorry for any confusion and inconvenience.  \\\n",
       "0                                                NaN                                                                                                                                                                                                                                                                       \n",
       "1                                                NaN                                                                                                                                                                                                                                                                       \n",
       "2                                                NaN                                                                                                                                                                                                                                                                       \n",
       "3                                                NaN                                                                                                                                                                                                                                                                       \n",
       "4                                                NaN                                                                                                                                                                                                                                                                       \n",
       "\n",
       "   Recovered  Suspected  Unnamed: 6  Unnamed: 7  \n",
       "0       42.0        NaN         NaN         NaN  \n",
       "1        1.0        NaN         NaN         NaN  \n",
       "2        2.0        NaN         NaN         NaN  \n",
       "3        NaN        3.0         NaN         NaN  \n",
       "4        NaN        NaN         NaN         NaN  "
      ]
     },
     "execution_count": 11,
     "metadata": {},
     "output_type": "execute_result"
    }
   ],
   "source": [
    "df.head()"
   ]
  },
  {
   "cell_type": "markdown",
   "metadata": {},
   "source": [
    "Očigledno postoje kolone koje nemaju mnogo smisla, ali nam trenutno ne smetaju."
   ]
  },
  {
   "cell_type": "markdown",
   "metadata": {},
   "source": [
    "Grafici koje uglavnom viđamo ne prikazuju koliko se problem sa Koronavirusom razlikuje po regijama i gradovima u Kini. Čini se da su skoro svi zaraženi samo u jednoj provinciji. Zato ćemo iz velike tabele izdvojiti posebne tabele za nekoliko provincija i prikazati broj ukupan zaraženih po datumima."
   ]
  },
  {
   "cell_type": "code",
   "execution_count": 12,
   "metadata": {},
   "outputs": [],
   "source": [
    "dfH=df.loc[df['Province/State']=='Hubei',].sort_values('Last Update')\n",
    "dfZ=df.loc[df['Province/State']=='Zhejiang',].sort_values('Last Update')\n",
    "dfG=df.loc[df['Province/State']=='Guangdong',].sort_values('Last Update')\n",
    "dfB=df.loc[df['Province/State']=='Beijing',].sort_values('Last Update')"
   ]
  },
  {
   "cell_type": "code",
   "execution_count": 13,
   "metadata": {},
   "outputs": [
    {
     "data": {
      "text/plain": [
       "Text(0,0.5,'Broj zaraženih')"
      ]
     },
     "execution_count": 13,
     "metadata": {},
     "output_type": "execute_result"
    },
    {
     "data": {
      "image/png": "[encoded data removed]",
      "text/plain": [
       "<matplotlib.figure.Figure at 0x2096e6ff828>"
      ]
     },
     "metadata": {},
     "output_type": "display_data"
    }
   ],
   "source": [
    "plt.figure(figsize=(15,3))\n",
    "plt.plot(dfH['Last Update'], dfH['Confirmed'], label='Hubei',linewidth=3)\n",
    "plt.plot(dfZ['Last Update'], dfZ['Confirmed'], label='Zhejiang',linewidth=3)\n",
    "plt.plot(dfG['Last Update'], dfG['Confirmed'], label='Guangdong',linewidth=3)\n",
    "plt.plot(dfB['Last Update'], dfB['Confirmed'], label='Beijing',linewidth=3)\n",
    "\n",
    "plt.legend()\n",
    "plt.xlabel('Datum')\n",
    "plt.ylabel('Broj zaraženih')"
   ]
  },
  {
   "cell_type": "markdown",
   "metadata": {},
   "source": [
    "Grafik koji retko viđamo u medijima i kako menja odnos broja umrlih i oporavljenih. Prvi znak da epidemija gubi na intenzitetu bi mogao da bude trenutak kada broj oporavljenih nadmaši broj umrlih. Pogledajmo kako to izgleda u u najkritičnijoj provinciji Hubei."
   ]
  },
  {
   "cell_type": "code",
   "execution_count": 14,
   "metadata": {},
   "outputs": [
    {
     "data": {
      "text/plain": [
       "Text(0.5,0,'Datum')"
      ]
     },
     "execution_count": 14,
     "metadata": {},
     "output_type": "execute_result"
    },
    {
     "data": {
      "image/png": "[encoded data removed]",
      "text/plain": [
       "<matplotlib.figure.Figure at 0x2096e6af550>"
      ]
     },
     "metadata": {},
     "output_type": "display_data"
    }
   ],
   "source": [
    "plt.figure(figsize=(15,6))\n",
    "plt.title('Broj umrlih i oporavljenih u provinciji Hubei')\n",
    "plt.plot(dfH['Last Update'], dfH['Deaths'], label='Broj umrlih',marker='o',linewidth=3)\n",
    "plt.plot(dfH['Last Update'], dfH['Recovered'], label='Broj oporavljenih',marker='o',linewidth=3)\n",
    "plt.legend()\n",
    "plt.xlabel('Datum')"
   ]
  }
 ],
 "metadata": {
  "kernelspec": {
   "display_name": "Python 3",
   "language": "python",
   "name": "python3"
  },
  "language_info": {
   "codemirror_mode": {
    "name": "ipython",
    "version": 3
   },
   "file_extension": ".py",
   "mimetype": "text/x-python",
   "name": "python",
   "nbconvert_exporter": "python",
   "pygments_lexer": "ipython3",
   "version": "3.6.4"
  }
 },
 "nbformat": 4,
 "nbformat_minor": 2
}
